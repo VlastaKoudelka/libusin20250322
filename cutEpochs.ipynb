{
 "cells": [
  {
   "cell_type": "code",
   "execution_count": 1,
   "metadata": {},
   "outputs": [],
   "source": [
    "import pandas as pd"
   ]
  },
  {
   "cell_type": "code",
   "execution_count": 9,
   "metadata": {},
   "outputs": [],
   "source": [
    "df = pd.read_csv('./data/filtered_data3_0.005.csv')"
   ]
  },
  {
   "cell_type": "code",
   "execution_count": 10,
   "metadata": {},
   "outputs": [],
   "source": [
    "# Define the split points\n",
    "splitTime = [252, 201.4, 143.1, 66, 23.03, 2.58, 0]\n",
    "\n",
    "# Split the dataframe into 6 parts\n",
    "for i in range(len(splitTime) - 1):\n",
    "    start_age = splitTime[i]\n",
    "    end_age = splitTime[i + 1]\n",
    "    df_split = df[(df['Age'] <= start_age) & (df['Age'] >= end_age)]\n",
    "    df_split.to_csv(f'./data/df_part_{i+1}_0.005.csv', index=False)\n"
   ]
  },
  {
   "cell_type": "code",
   "execution_count": null,
   "metadata": {},
   "outputs": [],
   "source": []
  }
 ],
 "metadata": {
  "kernelspec": {
   "display_name": ".venv",
   "language": "python",
   "name": "python3"
  },
  "language_info": {
   "codemirror_mode": {
    "name": "ipython",
    "version": 3
   },
   "file_extension": ".py",
   "mimetype": "text/x-python",
   "name": "python",
   "nbconvert_exporter": "python",
   "pygments_lexer": "ipython3",
   "version": "3.10.15"
  }
 },
 "nbformat": 4,
 "nbformat_minor": 2
}
