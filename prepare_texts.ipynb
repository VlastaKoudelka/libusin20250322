{
 "cells": [
  {
   "cell_type": "code",
   "execution_count": 1,
   "metadata": {},
   "outputs": [],
   "source": [
    "import pandas as pd"
   ]
  },
  {
   "cell_type": "code",
   "execution_count": 4,
   "metadata": {},
   "outputs": [],
   "source": [
    "df = pd.read_csv('./data/filtered_data3.csv')"
   ]
  },
  {
   "cell_type": "code",
   "execution_count": 34,
   "metadata": {},
   "outputs": [
    {
     "name": "stdout",
     "output_type": "stream",
     "text": [
      "        Age  Title\n",
      "1000  202.0  Trias\n"
     ]
    }
   ],
   "source": [
    "# Define epochs and quantities for each epoch and texts for each epoch\n",
    "title_texts = ['Trias', 'Jura', 'Křída', 'Paleogén', 'Neogén', 'Kvartér']\n",
    "epochs = [[252, 201.4], [201.45, 143.1], [143.15, 66], [66.5, 23.05], [23.1, 2.5], [2.55, 0]]\n",
    "\n",
    "# Create a new DataFrame with Age and Title columns\n",
    "df_text = pd.DataFrame({'Age': df['Age']})\n",
    "\n",
    "# Assign titles based on the epochs\n",
    "df_text['Title'] = None\n",
    "for i, (start, end) in enumerate(epochs):\n",
    "    df_text.loc[(df_text['Age'] >= end) & (df_text['Age'] <= start), 'Title'] = title_texts[i]\n",
    "print(df_text.loc[df_text[\"Age\"]==202.0])"
   ]
  },
  {
   "cell_type": "code",
   "execution_count": null,
   "metadata": {},
   "outputs": [
    {
     "name": "stdout",
     "output_type": "stream",
     "text": [
      "         Age    Title Event\n",
      "0     252.00    Trias      \n",
      "1     251.95    Trias      \n",
      "2     251.90    Trias      \n",
      "3     251.85    Trias      \n",
      "4     251.80    Trias      \n",
      "...      ...      ...   ...\n",
      "5036    0.20  Kvartér      \n",
      "5037    0.15  Kvartér      \n",
      "5038    0.10  Kvartér      \n",
      "5039    0.05  Kvartér      \n",
      "5040    0.00  Kvartér      \n",
      "\n",
      "[5041 rows x 3 columns]\n"
     ]
    }
   ],
   "source": [
    "events_texts = ['Na konci triasu se také objevují Dinosauři a před 225 milióny let první savci',\n",
    "                'Hladina moře je nejvyšší za celé druhohory a na konci Křídy dosahuje hladiny přesahující dnešní nejméně o 200 metrů',\n",
    "                'K nejvýraznější došlo před 94 Ma během jedno ze dvou nejteplejších období za celé Fanerozoikum. Aby takové klima mohlo fungovat tak se spekuluje o kombinaci vysoké koncentrace CO2, metanu a dalších skleníkových plynů a nízké odrazivosti zemského povrchu i atmosféry. Svou roli mohly sehrát i tzv. megahurikány, které dokázaly promíchat horkou atmosféru až k pólům. Po tomto termálním maximu teplota po zbytek křídy pomalu klesá. ']\n",
    "events = [[225,220],[140,110],[85,62]]\n",
    "\n",
    "df_text['Event'] = ''\n",
    "for i, (start, end) in enumerate(events):\n",
    "    df_text.loc[(df_text['Age'] >= end) & (df_text['Age'] < start), 'Event'] = events_texts[i]\n",
    "    \n",
    "print(df_text)"
   ]
  }
 ],
 "metadata": {
  "kernelspec": {
   "display_name": ".venv",
   "language": "python",
   "name": "python3"
  },
  "language_info": {
   "codemirror_mode": {
    "name": "ipython",
    "version": 3
   },
   "file_extension": ".py",
   "mimetype": "text/x-python",
   "name": "python",
   "nbconvert_exporter": "python",
   "pygments_lexer": "ipython3",
   "version": "3.10.15"
  }
 },
 "nbformat": 4,
 "nbformat_minor": 2
}
